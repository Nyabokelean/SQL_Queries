{
  "nbformat": 4,
  "nbformat_minor": 0,
  "metadata": {
    "colab": {
      "name": "Moringa_Data_Science_Prep_W1_Independent_Project_2019_06_Lean_Nyakundi_SQL_Notebook",
      "provenance": [],
      "toc_visible": true,
      "authorship_tag": "ABX9TyMpXY19rYYcs2wK0dTKc71U",
      "include_colab_link": true
    },
    "kernelspec": {
      "name": "python3",
      "display_name": "Python 3"
    }
  },
  "cells": [
    {
      "cell_type": "markdown",
      "metadata": {
        "id": "view-in-github",
        "colab_type": "text"
      },
      "source": [
        "<a href=\"https://colab.research.google.com/github/Nyabokelean/SQL_Queries/blob/master/Moringa_Data_Science_Prep_W1_Independent_Project_2019_06_Lean_Nyakundi_SQL_Notebook.ipynb\" target=\"_parent\"><img src=\"https://colab.research.google.com/assets/colab-badge.svg\" alt=\"Open In Colab\"/></a>"
      ]
    },
    {
      "cell_type": "markdown",
      "metadata": {
        "id": "bgHQWcLzpzLM",
        "colab_type": "text"
      },
      "source": [
        "# SQL Queries"
      ]
    },
    {
      "cell_type": "markdown",
      "metadata": {
        "id": "HrZO-BJnxrwR",
        "colab_type": "text"
      },
      "source": [
        "## Reading Data"
      ]
    },
    {
      "cell_type": "code",
      "metadata": {
        "id": "DfleCZND7Q-t",
        "colab_type": "code",
        "colab": {
          "base_uri": "https://localhost:8080/",
          "height": 35
        },
        "outputId": "f97acee1-da80-4124-9325-b7eb969dd806"
      },
      "source": [
        "# We will first load the sql extension into our environment\n",
        "%load_ext sql\n",
        "\n",
        "# Then connect to our in memory sqlite database\n",
        "#\n",
        "%sql sqlite://"
      ],
      "execution_count": 1,
      "outputs": [
        {
          "output_type": "execute_result",
          "data": {
            "application/vnd.google.colaboratory.intrinsic+json": {
              "type": "string"
            },
            "text/plain": [
              "'Connected: @None'"
            ]
          },
          "metadata": {
            "tags": []
          },
          "execution_count": 1
        }
      ]
    },
    {
      "cell_type": "code",
      "metadata": {
        "id": "zRX1wLMd8TAQ",
        "colab_type": "code",
        "colab": {}
      },
      "source": [
        "# Importing the python libraries that we will need in this notebook\n",
        "import csv\n",
        "import pandas as pd"
      ],
      "execution_count": 2,
      "outputs": []
    },
    {
      "cell_type": "code",
      "metadata": {
        "id": "B6cuTHwJ8eW5",
        "colab_type": "code",
        "colab": {}
      },
      "source": [
        "# Load the UgandaCrops table from a local CSV file\n",
        "#\n",
        "with open('Uganda_Karamoja_Subcounty_Crop_Yield_Population.csv','r') as f:\n",
        "    UgandaCrops = pd.read_csv(f, index_col=0, encoding='utf-8')"
      ],
      "execution_count": 3,
      "outputs": []
    },
    {
      "cell_type": "code",
      "metadata": {
        "id": "Q69if6px9KaZ",
        "colab_type": "code",
        "colab": {
          "base_uri": "https://localhost:8080/",
          "height": 90
        },
        "outputId": "dcf72be8-6978-4648-b488-94eb4c9f8f25"
      },
      "source": [
        "# Then store it in an SQL table of our in memory sqlite database\n",
        "#\n",
        "%sql DROP TABLE if EXISTS UgandaCrops;\n",
        "%sql PERSIST UgandaCrops;"
      ],
      "execution_count": 4,
      "outputs": [
        {
          "output_type": "stream",
          "text": [
            " * sqlite://\n",
            "Done.\n",
            " * sqlite://\n"
          ],
          "name": "stdout"
        },
        {
          "output_type": "execute_result",
          "data": {
            "application/vnd.google.colaboratory.intrinsic+json": {
              "type": "string"
            },
            "text/plain": [
              "'Persisted ugandacrops'"
            ]
          },
          "metadata": {
            "tags": []
          },
          "execution_count": 4
        }
      ]
    },
    {
      "cell_type": "markdown",
      "metadata": {
        "id": "Xl1sd-3Sx19L",
        "colab_type": "text"
      },
      "source": [
        "## Checking the Data"
      ]
    },
    {
      "cell_type": "code",
      "metadata": {
        "id": "oEUfFKF49xbI",
        "colab_type": "code",
        "colab": {
          "base_uri": "https://localhost:8080/",
          "height": 218
        },
        "outputId": "0a995d6c-1998-4816-8b79-54e8327b6fbd"
      },
      "source": [
        "# Let's preview our Interpol table so that we can understand it\n",
        "%sql SELECT * FROM UgandaCrops LIMIT 5;"
      ],
      "execution_count": 5,
      "outputs": [
        {
          "output_type": "stream",
          "text": [
            " * sqlite://\n",
            "Done.\n"
          ],
          "name": "stdout"
        },
        {
          "output_type": "execute_result",
          "data": {
            "text/html": [
              "<table>\n",
              "    <tr>\n",
              "        <th>OBJECTID</th>\n",
              "        <th>SUBCOUNTY_NAME</th>\n",
              "        <th>DISTRICT_NAME</th>\n",
              "        <th>POP</th>\n",
              "        <th>Area</th>\n",
              "        <th>Karamoja</th>\n",
              "        <th>S_Yield_Ha</th>\n",
              "        <th>M_Yield_Ha</th>\n",
              "        <th>Crop_Area_Ha</th>\n",
              "        <th>S_Area_Ha</th>\n",
              "        <th>M_Area_Ha</th>\n",
              "        <th>S_Prod_Tot</th>\n",
              "        <th>M_Prod_Tot</th>\n",
              "    </tr>\n",
              "    <tr>\n",
              "        <td>263</td>\n",
              "        <td>KACHERI</td>\n",
              "        <td>KOTIDO</td>\n",
              "        <td>17244</td>\n",
              "        <td>1067176155</td>\n",
              "        <td>Y</td>\n",
              "        <td>354.20741069999997</td>\n",
              "        <td>1137.467019</td>\n",
              "        <td>7023.533691</td>\n",
              "        <td>6434.342449</td>\n",
              "        <td>528.1242294</td>\n",
              "        <td>2279091.779</td>\n",
              "        <td>600723.8929</td>\n",
              "    </tr>\n",
              "    <tr>\n",
              "        <td>264</td>\n",
              "        <td>KOTIDO</td>\n",
              "        <td>KOTIDO</td>\n",
              "        <td>52771</td>\n",
              "        <td>597575188</td>\n",
              "        <td>Y</td>\n",
              "        <td>367.89052319999996</td>\n",
              "        <td>1162.9966869999998</td>\n",
              "        <td>13587.990759999999</td>\n",
              "        <td>12455.59264</td>\n",
              "        <td>824.7670809</td>\n",
              "        <td>4582294.492</td>\n",
              "        <td>959201.3825</td>\n",
              "    </tr>\n",
              "    <tr>\n",
              "        <td>265</td>\n",
              "        <td>KOTIDO TOWN COUNCIL</td>\n",
              "        <td>KOTIDO</td>\n",
              "        <td>27389</td>\n",
              "        <td>23972401</td>\n",
              "        <td>Y</td>\n",
              "        <td>369.3141771</td>\n",
              "        <td>1167.005832</td>\n",
              "        <td>1656.5318550000002</td>\n",
              "        <td>1520.322052</td>\n",
              "        <td>8.561643817</td>\n",
              "        <td>561476.4874</td>\n",
              "        <td>9991.488268000001</td>\n",
              "    </tr>\n",
              "    <tr>\n",
              "        <td>266</td>\n",
              "        <td>NAKAPERIMORU</td>\n",
              "        <td>KOTIDO</td>\n",
              "        <td>38775</td>\n",
              "        <td>419111591</td>\n",
              "        <td>Y</td>\n",
              "        <td>283.3245689</td>\n",
              "        <td>852.3665784</td>\n",
              "        <td>7087.823334000001</td>\n",
              "        <td>6761.488901000001</td>\n",
              "        <td>45.72171184</td>\n",
              "        <td>1915695.928</td>\n",
              "        <td>38971.65908</td>\n",
              "    </tr>\n",
              "    <tr>\n",
              "        <td>267</td>\n",
              "        <td>PANYANGARA</td>\n",
              "        <td>KOTIDO</td>\n",
              "        <td>65704</td>\n",
              "        <td>880955930</td>\n",
              "        <td>Y</td>\n",
              "        <td>373.8369255</td>\n",
              "        <td>1283.859882</td>\n",
              "        <td>10398.24939</td>\n",
              "        <td>10111.198129999999</td>\n",
              "        <td>172.6119139</td>\n",
              "        <td>3779939.224</td>\n",
              "        <td>221609.5114</td>\n",
              "    </tr>\n",
              "</table>"
            ],
            "text/plain": [
              "[(263, 'KACHERI', 'KOTIDO', 17244, 1067176155, 'Y', 354.20741069999997, 1137.467019, 7023.533691, 6434.342449, 528.1242294, 2279091.779, 600723.8929),\n",
              " (264, 'KOTIDO', 'KOTIDO', 52771, 597575188, 'Y', 367.89052319999996, 1162.9966869999998, 13587.990759999999, 12455.59264, 824.7670809, 4582294.492, 959201.3825),\n",
              " (265, 'KOTIDO TOWN COUNCIL', 'KOTIDO', 27389, 23972401, 'Y', 369.3141771, 1167.005832, 1656.5318550000002, 1520.322052, 8.561643817, 561476.4874, 9991.488268000001),\n",
              " (266, 'NAKAPERIMORU', 'KOTIDO', 38775, 419111591, 'Y', 283.3245689, 852.3665784, 7087.823334000001, 6761.488901000001, 45.72171184, 1915695.928, 38971.65908),\n",
              " (267, 'PANYANGARA', 'KOTIDO', 65704, 880955930, 'Y', 373.8369255, 1283.859882, 10398.24939, 10111.198129999999, 172.6119139, 3779939.224, 221609.5114)]"
            ]
          },
          "metadata": {
            "tags": []
          },
          "execution_count": 5
        }
      ]
    },
    {
      "cell_type": "markdown",
      "metadata": {
        "id": "rI3NjUKIx-zG",
        "colab_type": "text"
      },
      "source": [
        "## Implementing the Solution"
      ]
    },
    {
      "cell_type": "code",
      "metadata": {
        "id": "rhp6Px2Q-UIA",
        "colab_type": "code",
        "colab": {
          "base_uri": "https://localhost:8080/",
          "height": 1000
        },
        "outputId": "4df8c982-384e-4c79-b5f1-dfb98d22f6a9"
      },
      "source": [
        "# Display a list of Sub Counties and their population and areas\n",
        "# We will select the specific columns from the table\n",
        "%%sql\n",
        "SELECT SUBCOUNTY_NAME, POP, Area FROM UgandaCrops;"
      ],
      "execution_count": 6,
      "outputs": [
        {
          "output_type": "stream",
          "text": [
            " * sqlite://\n",
            "Done.\n"
          ],
          "name": "stdout"
        },
        {
          "output_type": "execute_result",
          "data": {
            "text/html": [
              "<table>\n",
              "    <tr>\n",
              "        <th>SUBCOUNTY_NAME</th>\n",
              "        <th>POP</th>\n",
              "        <th>Area</th>\n",
              "    </tr>\n",
              "    <tr>\n",
              "        <td>KACHERI</td>\n",
              "        <td>17244</td>\n",
              "        <td>1067176155</td>\n",
              "    </tr>\n",
              "    <tr>\n",
              "        <td>KOTIDO</td>\n",
              "        <td>52771</td>\n",
              "        <td>597575188</td>\n",
              "    </tr>\n",
              "    <tr>\n",
              "        <td>KOTIDO TOWN COUNCIL</td>\n",
              "        <td>27389</td>\n",
              "        <td>23972401</td>\n",
              "    </tr>\n",
              "    <tr>\n",
              "        <td>NAKAPERIMORU</td>\n",
              "        <td>38775</td>\n",
              "        <td>419111591</td>\n",
              "    </tr>\n",
              "    <tr>\n",
              "        <td>PANYANGARA</td>\n",
              "        <td>65704</td>\n",
              "        <td>880955930</td>\n",
              "    </tr>\n",
              "    <tr>\n",
              "        <td>RENGEN</td>\n",
              "        <td>41273</td>\n",
              "        <td>652744859</td>\n",
              "    </tr>\n",
              "    <tr>\n",
              "        <td>KAABONG  EAST</td>\n",
              "        <td>42221</td>\n",
              "        <td>60801942</td>\n",
              "    </tr>\n",
              "    <tr>\n",
              "        <td>KAABONG TOWN COUNCIL</td>\n",
              "        <td>38857</td>\n",
              "        <td>13071455</td>\n",
              "    </tr>\n",
              "    <tr>\n",
              "        <td>KAABONG WEST</td>\n",
              "        <td>41454</td>\n",
              "        <td>67612362</td>\n",
              "    </tr>\n",
              "    <tr>\n",
              "        <td>KALAPATA</td>\n",
              "        <td>99203</td>\n",
              "        <td>223116860</td>\n",
              "    </tr>\n",
              "    <tr>\n",
              "        <td>KAMION</td>\n",
              "        <td>60070</td>\n",
              "        <td>1199409465</td>\n",
              "    </tr>\n",
              "    <tr>\n",
              "        <td>KAPEDO</td>\n",
              "        <td>33951</td>\n",
              "        <td>304557831</td>\n",
              "    </tr>\n",
              "    <tr>\n",
              "        <td>KATHILE</td>\n",
              "        <td>56870</td>\n",
              "        <td>228457417</td>\n",
              "    </tr>\n",
              "    <tr>\n",
              "        <td>KAWALAKOL</td>\n",
              "        <td>37691</td>\n",
              "        <td>1742041261</td>\n",
              "    </tr>\n",
              "    <tr>\n",
              "        <td>LOBALANGIT</td>\n",
              "        <td>22907</td>\n",
              "        <td>302572789</td>\n",
              "    </tr>\n",
              "    <tr>\n",
              "        <td>LODIKO</td>\n",
              "        <td>31820</td>\n",
              "        <td>397700845</td>\n",
              "    </tr>\n",
              "    <tr>\n",
              "        <td>LOLELIA</td>\n",
              "        <td>100919</td>\n",
              "        <td>1069331387</td>\n",
              "    </tr>\n",
              "    <tr>\n",
              "        <td>LOYORO</td>\n",
              "        <td>16608</td>\n",
              "        <td>1330019236</td>\n",
              "    </tr>\n",
              "    <tr>\n",
              "        <td>NAPORE (KARENGA)</td>\n",
              "        <td>20394</td>\n",
              "        <td>309577387</td>\n",
              "    </tr>\n",
              "    <tr>\n",
              "        <td>SIDOK</td>\n",
              "        <td>24092</td>\n",
              "        <td>125330583</td>\n",
              "    </tr>\n",
              "    <tr>\n",
              "        <td>ABIM</td>\n",
              "        <td>14377</td>\n",
              "        <td>188613057</td>\n",
              "    </tr>\n",
              "    <tr>\n",
              "        <td>ABIM TOWN COUNCIL</td>\n",
              "        <td>11489</td>\n",
              "        <td>115941152</td>\n",
              "    </tr>\n",
              "    <tr>\n",
              "        <td>ALEREK</td>\n",
              "        <td>12573</td>\n",
              "        <td>1255760525</td>\n",
              "    </tr>\n",
              "    <tr>\n",
              "        <td>LOTUKEI</td>\n",
              "        <td>18641</td>\n",
              "        <td>191684465</td>\n",
              "    </tr>\n",
              "    <tr>\n",
              "        <td>MORULEM</td>\n",
              "        <td>16834</td>\n",
              "        <td>250364895</td>\n",
              "    </tr>\n",
              "    <tr>\n",
              "        <td>KARITA</td>\n",
              "        <td>45015</td>\n",
              "        <td>658008801</td>\n",
              "    </tr>\n",
              "    <tr>\n",
              "        <td>LOROO</td>\n",
              "        <td>22541</td>\n",
              "        <td>371970302</td>\n",
              "    </tr>\n",
              "    <tr>\n",
              "        <td>AMUDAT</td>\n",
              "        <td>30181</td>\n",
              "        <td>596393139</td>\n",
              "    </tr>\n",
              "    <tr>\n",
              "        <td>AMUDAT TOWN COUNCIL</td>\n",
              "        <td>4053</td>\n",
              "        <td>17207110</td>\n",
              "    </tr>\n",
              "    <tr>\n",
              "        <td>KATIKEKILE</td>\n",
              "        <td>11772</td>\n",
              "        <td>277451997</td>\n",
              "    </tr>\n",
              "    <tr>\n",
              "        <td>NADUNGET</td>\n",
              "        <td>42115</td>\n",
              "        <td>596023780</td>\n",
              "    </tr>\n",
              "    <tr>\n",
              "        <td>TAPAC</td>\n",
              "        <td>21999</td>\n",
              "        <td>622266516</td>\n",
              "    </tr>\n",
              "    <tr>\n",
              "        <td>NORTHERN DIVISION</td>\n",
              "        <td>7161</td>\n",
              "        <td>2738777</td>\n",
              "    </tr>\n",
              "    <tr>\n",
              "        <td>SOUTHERN DIVISION</td>\n",
              "        <td>3272</td>\n",
              "        <td>2121209</td>\n",
              "    </tr>\n",
              "    <tr>\n",
              "        <td>LOREGAE</td>\n",
              "        <td>26644</td>\n",
              "        <td>928683431</td>\n",
              "    </tr>\n",
              "    <tr>\n",
              "        <td>NAKAPIRIPIRIT TOWN COUNCIL</td>\n",
              "        <td>1418</td>\n",
              "        <td>4673094</td>\n",
              "    </tr>\n",
              "    <tr>\n",
              "        <td>NAMALU</td>\n",
              "        <td>25905</td>\n",
              "        <td>553067364</td>\n",
              "    </tr>\n",
              "    <tr>\n",
              "        <td>KAKOMONGOLE</td>\n",
              "        <td>15960</td>\n",
              "        <td>312709097</td>\n",
              "    </tr>\n",
              "    <tr>\n",
              "        <td>LOLACHAT</td>\n",
              "        <td>22801</td>\n",
              "        <td>642401705</td>\n",
              "    </tr>\n",
              "    <tr>\n",
              "        <td>LORENGEDWAT</td>\n",
              "        <td>9929</td>\n",
              "        <td>435714604</td>\n",
              "    </tr>\n",
              "    <tr>\n",
              "        <td>NABILATUK</td>\n",
              "        <td>27534</td>\n",
              "        <td>499776866</td>\n",
              "    </tr>\n",
              "    <tr>\n",
              "        <td>IRIIRI</td>\n",
              "        <td>46979</td>\n",
              "        <td>1030623258</td>\n",
              "    </tr>\n",
              "    <tr>\n",
              "        <td>LOPEEI</td>\n",
              "        <td>18815</td>\n",
              "        <td>790782350</td>\n",
              "    </tr>\n",
              "    <tr>\n",
              "        <td>LORENGECORA</td>\n",
              "        <td>2503</td>\n",
              "        <td>118997955</td>\n",
              "    </tr>\n",
              "    <tr>\n",
              "        <td>LOTOME</td>\n",
              "        <td>17834</td>\n",
              "        <td>125857565</td>\n",
              "    </tr>\n",
              "    <tr>\n",
              "        <td>MATANY</td>\n",
              "        <td>29495</td>\n",
              "        <td>338252511</td>\n",
              "    </tr>\n",
              "    <tr>\n",
              "        <td>NAPAK TOWN COUNCIL</td>\n",
              "        <td>8010</td>\n",
              "        <td>150906375</td>\n",
              "    </tr>\n",
              "    <tr>\n",
              "        <td>NGOLERIET</td>\n",
              "        <td>20790</td>\n",
              "        <td>158887552</td>\n",
              "    </tr>\n",
              "    <tr>\n",
              "        <td>NYAKWAE</td>\n",
              "        <td>16470</td>\n",
              "        <td>769609687</td>\n",
              "    </tr>\n",
              "    <tr>\n",
              "        <td>LOKOPO</td>\n",
              "        <td>23200</td>\n",
              "        <td>1794470536</td>\n",
              "    </tr>\n",
              "    <tr>\n",
              "        <td>RUPA</td>\n",
              "        <td>41493</td>\n",
              "        <td>2069554899</td>\n",
              "    </tr>\n",
              "    <tr>\n",
              "        <td>MORUITA</td>\n",
              "        <td>16588</td>\n",
              "        <td>839293722</td>\n",
              "    </tr>\n",
              "</table>"
            ],
            "text/plain": [
              "[('KACHERI', 17244, 1067176155),\n",
              " ('KOTIDO', 52771, 597575188),\n",
              " ('KOTIDO TOWN COUNCIL', 27389, 23972401),\n",
              " ('NAKAPERIMORU', 38775, 419111591),\n",
              " ('PANYANGARA', 65704, 880955930),\n",
              " ('RENGEN', 41273, 652744859),\n",
              " ('KAABONG  EAST', 42221, 60801942),\n",
              " ('KAABONG TOWN COUNCIL', 38857, 13071455),\n",
              " ('KAABONG WEST', 41454, 67612362),\n",
              " ('KALAPATA', 99203, 223116860),\n",
              " ('KAMION', 60070, 1199409465),\n",
              " ('KAPEDO', 33951, 304557831),\n",
              " ('KATHILE', 56870, 228457417),\n",
              " ('KAWALAKOL', 37691, 1742041261),\n",
              " ('LOBALANGIT', 22907, 302572789),\n",
              " ('LODIKO', 31820, 397700845),\n",
              " ('LOLELIA', 100919, 1069331387),\n",
              " ('LOYORO', 16608, 1330019236),\n",
              " ('NAPORE (KARENGA)', 20394, 309577387),\n",
              " ('SIDOK', 24092, 125330583),\n",
              " ('ABIM', 14377, 188613057),\n",
              " ('ABIM TOWN COUNCIL', 11489, 115941152),\n",
              " ('ALEREK', 12573, 1255760525),\n",
              " ('LOTUKEI', 18641, 191684465),\n",
              " ('MORULEM', 16834, 250364895),\n",
              " ('KARITA', 45015, 658008801),\n",
              " ('LOROO', 22541, 371970302),\n",
              " ('AMUDAT', 30181, 596393139),\n",
              " ('AMUDAT TOWN COUNCIL', 4053, 17207110),\n",
              " ('KATIKEKILE', 11772, 277451997),\n",
              " ('NADUNGET', 42115, 596023780),\n",
              " ('TAPAC', 21999, 622266516),\n",
              " ('NORTHERN DIVISION', 7161, 2738777),\n",
              " ('SOUTHERN DIVISION', 3272, 2121209),\n",
              " ('LOREGAE', 26644, 928683431),\n",
              " ('NAKAPIRIPIRIT TOWN COUNCIL', 1418, 4673094),\n",
              " ('NAMALU', 25905, 553067364),\n",
              " ('KAKOMONGOLE', 15960, 312709097),\n",
              " ('LOLACHAT', 22801, 642401705),\n",
              " ('LORENGEDWAT', 9929, 435714604),\n",
              " ('NABILATUK', 27534, 499776866),\n",
              " ('IRIIRI', 46979, 1030623258),\n",
              " ('LOPEEI', 18815, 790782350),\n",
              " ('LORENGECORA', 2503, 118997955),\n",
              " ('LOTOME', 17834, 125857565),\n",
              " ('MATANY', 29495, 338252511),\n",
              " ('NAPAK TOWN COUNCIL', 8010, 150906375),\n",
              " ('NGOLERIET', 20790, 158887552),\n",
              " ('NYAKWAE', 16470, 769609687),\n",
              " ('LOKOPO', 23200, 1794470536),\n",
              " ('RUPA', 41493, 2069554899),\n",
              " ('MORUITA', 16588, 839293722)]"
            ]
          },
          "metadata": {
            "tags": []
          },
          "execution_count": 6
        }
      ]
    },
    {
      "cell_type": "code",
      "metadata": {
        "id": "jWUninJy-3J8",
        "colab_type": "code",
        "colab": {
          "base_uri": "https://localhost:8080/",
          "height": 223
        },
        "outputId": "a13fd989-7177-4d4d-9799-ddcc56fe5224"
      },
      "source": [
        "# Sort the list of districts by total crop area (descending order)\n",
        "# We will Select the crop area column and district column \n",
        "# Group and Order by District \n",
        "\n",
        "%%sql\n",
        "SELECT DISTRICT_NAME, Crop_Area_Ha FROM UgandaCrops\n",
        "GROUP BY DISTRICT_NAME \n",
        "ORDER BY DISTRICT_NAME DESC;"
      ],
      "execution_count": 7,
      "outputs": [
        {
          "output_type": "stream",
          "text": [
            " * sqlite://\n",
            "Done.\n"
          ],
          "name": "stdout"
        },
        {
          "output_type": "execute_result",
          "data": {
            "text/html": [
              "<table>\n",
              "    <tr>\n",
              "        <th>DISTRICT_NAME</th>\n",
              "        <th>Crop_Area_Ha</th>\n",
              "    </tr>\n",
              "    <tr>\n",
              "        <td>NAPAK</td>\n",
              "        <td>6471.047334000001</td>\n",
              "    </tr>\n",
              "    <tr>\n",
              "        <td>NAKAPIRIPIRIT</td>\n",
              "        <td>1161.3902289999999</td>\n",
              "    </tr>\n",
              "    <tr>\n",
              "        <td>MOROTO</td>\n",
              "        <td>2217.2907170000003</td>\n",
              "    </tr>\n",
              "    <tr>\n",
              "        <td>KOTIDO</td>\n",
              "        <td>13278.52043</td>\n",
              "    </tr>\n",
              "    <tr>\n",
              "        <td>KAABONG</td>\n",
              "        <td>957.4939457999999</td>\n",
              "    </tr>\n",
              "    <tr>\n",
              "        <td>AMUDAT</td>\n",
              "        <td>60.77208552</td>\n",
              "    </tr>\n",
              "    <tr>\n",
              "        <td>ABIM</td>\n",
              "        <td>792.8987889</td>\n",
              "    </tr>\n",
              "</table>"
            ],
            "text/plain": [
              "[('NAPAK', 6471.047334000001),\n",
              " ('NAKAPIRIPIRIT', 1161.3902289999999),\n",
              " ('MOROTO', 2217.2907170000003),\n",
              " ('KOTIDO', 13278.52043),\n",
              " ('KAABONG', 957.4939457999999),\n",
              " ('AMUDAT', 60.77208552),\n",
              " ('ABIM', 792.8987889)]"
            ]
          },
          "metadata": {
            "tags": []
          },
          "execution_count": 7
        }
      ]
    },
    {
      "cell_type": "code",
      "metadata": {
        "id": "mOr-sZiuBAqM",
        "colab_type": "code",
        "colab": {
          "base_uri": "https://localhost:8080/",
          "height": 202
        },
        "outputId": "59dcb31c-c9e0-43d7-850e-29d4efcea9dc"
      },
      "source": [
        "# Select only the Sub counties from the Moroto district, order them alphabetically and show their production of sorghum.\n",
        "# We will select subcounty and sorghum production column\n",
        "# Where District is Moroto\n",
        "# alphabetic order by subcounty name\n",
        "\n",
        "%%sql\n",
        "SELECT SUBCOUNTY_NAME, S_Yield_Ha FROM UgandaCrops\n",
        "WHERE DISTRICT_NAME = \"MOROTO\"\n",
        "ORDER BY SUBCOUNTY_NAME ASC;"
      ],
      "execution_count": 8,
      "outputs": [
        {
          "output_type": "stream",
          "text": [
            " * sqlite://\n",
            "Done.\n"
          ],
          "name": "stdout"
        },
        {
          "output_type": "execute_result",
          "data": {
            "text/html": [
              "<table>\n",
              "    <tr>\n",
              "        <th>SUBCOUNTY_NAME</th>\n",
              "        <th>S_Yield_Ha</th>\n",
              "    </tr>\n",
              "    <tr>\n",
              "        <td>KATIKEKILE</td>\n",
              "        <td>311.0062152</td>\n",
              "    </tr>\n",
              "    <tr>\n",
              "        <td>NADUNGET</td>\n",
              "        <td>133.6679356</td>\n",
              "    </tr>\n",
              "    <tr>\n",
              "        <td>NORTHERN DIVISION</td>\n",
              "        <td>131.9776979</td>\n",
              "    </tr>\n",
              "    <tr>\n",
              "        <td>RUPA</td>\n",
              "        <td>114.2709211</td>\n",
              "    </tr>\n",
              "    <tr>\n",
              "        <td>SOUTHERN DIVISION</td>\n",
              "        <td>114.7955689</td>\n",
              "    </tr>\n",
              "    <tr>\n",
              "        <td>TAPAC</td>\n",
              "        <td>155.8699345</td>\n",
              "    </tr>\n",
              "</table>"
            ],
            "text/plain": [
              "[('KATIKEKILE', 311.0062152),\n",
              " ('NADUNGET', 133.6679356),\n",
              " ('NORTHERN DIVISION', 131.9776979),\n",
              " ('RUPA', 114.2709211),\n",
              " ('SOUTHERN DIVISION', 114.7955689),\n",
              " ('TAPAC', 155.8699345)]"
            ]
          },
          "metadata": {
            "tags": []
          },
          "execution_count": 8
        }
      ]
    },
    {
      "cell_type": "code",
      "metadata": {
        "id": "C8ndJWo1DK1D",
        "colab_type": "code",
        "colab": {
          "base_uri": "https://localhost:8080/",
          "height": 223
        },
        "outputId": "4a59996b-0e04-4932-8460-34c7e2470fdb"
      },
      "source": [
        "# Compute the total Maize production per District.\n",
        "# \n",
        "%%sql\n",
        "SELECT DISTRICT_NAME, SUM(M_Prod_Tot) FROM UgandaCrops\n",
        "GROUP BY DISTRICT_NAME;"
      ],
      "execution_count": 9,
      "outputs": [
        {
          "output_type": "stream",
          "text": [
            " * sqlite://\n",
            "Done.\n"
          ],
          "name": "stdout"
        },
        {
          "output_type": "execute_result",
          "data": {
            "text/html": [
              "<table>\n",
              "    <tr>\n",
              "        <th>DISTRICT_NAME</th>\n",
              "        <th>SUM(M_Prod_Tot)</th>\n",
              "    </tr>\n",
              "    <tr>\n",
              "        <td>ABIM</td>\n",
              "        <td>1922133.1297</td>\n",
              "    </tr>\n",
              "    <tr>\n",
              "        <td>AMUDAT</td>\n",
              "        <td>3546469.3324990002</td>\n",
              "    </tr>\n",
              "    <tr>\n",
              "        <td>KAABONG</td>\n",
              "        <td>6990361.6143000005</td>\n",
              "    </tr>\n",
              "    <tr>\n",
              "        <td>KOTIDO</td>\n",
              "        <td>2010179.0731479998</td>\n",
              "    </tr>\n",
              "    <tr>\n",
              "        <td>MOROTO</td>\n",
              "        <td>422116.06882464996</td>\n",
              "    </tr>\n",
              "    <tr>\n",
              "        <td>NAKAPIRIPIRIT</td>\n",
              "        <td>8125156.24546</td>\n",
              "    </tr>\n",
              "    <tr>\n",
              "        <td>NAPAK</td>\n",
              "        <td>5587379.38888</td>\n",
              "    </tr>\n",
              "</table>"
            ],
            "text/plain": [
              "[('ABIM', 1922133.1297),\n",
              " ('AMUDAT', 3546469.3324990002),\n",
              " ('KAABONG', 6990361.6143000005),\n",
              " ('KOTIDO', 2010179.0731479998),\n",
              " ('MOROTO', 422116.06882464996),\n",
              " ('NAKAPIRIPIRIT', 8125156.24546),\n",
              " ('NAPAK', 5587379.38888)]"
            ]
          },
          "metadata": {
            "tags": []
          },
          "execution_count": 9
        }
      ]
    },
    {
      "cell_type": "code",
      "metadata": {
        "id": "gSC0w3BpEsFZ",
        "colab_type": "code",
        "colab": {
          "base_uri": "https://localhost:8080/",
          "height": 223
        },
        "outputId": "ac866409-1543-4464-a3d4-10a278af6bce"
      },
      "source": [
        "#Compute the number of Sub counties where Maize is produced and the total Maize production per District\n",
        "\n",
        "%%sql\n",
        "SELECT DISTRICT_NAME, COUNT(SUBCOUNTY_NAME), SUM(M_Prod_Tot) FROM UgandaCrops\n",
        "GROUP BY DISTRICT_NAME;"
      ],
      "execution_count": 10,
      "outputs": [
        {
          "output_type": "stream",
          "text": [
            " * sqlite://\n",
            "Done.\n"
          ],
          "name": "stdout"
        },
        {
          "output_type": "execute_result",
          "data": {
            "text/html": [
              "<table>\n",
              "    <tr>\n",
              "        <th>DISTRICT_NAME</th>\n",
              "        <th>COUNT(SUBCOUNTY_NAME)</th>\n",
              "        <th>SUM(M_Prod_Tot)</th>\n",
              "    </tr>\n",
              "    <tr>\n",
              "        <td>ABIM</td>\n",
              "        <td>6</td>\n",
              "        <td>1922133.1297</td>\n",
              "    </tr>\n",
              "    <tr>\n",
              "        <td>AMUDAT</td>\n",
              "        <td>4</td>\n",
              "        <td>3546469.3324990002</td>\n",
              "    </tr>\n",
              "    <tr>\n",
              "        <td>KAABONG</td>\n",
              "        <td>14</td>\n",
              "        <td>6990361.6143000005</td>\n",
              "    </tr>\n",
              "    <tr>\n",
              "        <td>KOTIDO</td>\n",
              "        <td>6</td>\n",
              "        <td>2010179.0731479998</td>\n",
              "    </tr>\n",
              "    <tr>\n",
              "        <td>MOROTO</td>\n",
              "        <td>6</td>\n",
              "        <td>422116.06882464996</td>\n",
              "    </tr>\n",
              "    <tr>\n",
              "        <td>NAKAPIRIPIRIT</td>\n",
              "        <td>8</td>\n",
              "        <td>8125156.24546</td>\n",
              "    </tr>\n",
              "    <tr>\n",
              "        <td>NAPAK</td>\n",
              "        <td>8</td>\n",
              "        <td>5587379.38888</td>\n",
              "    </tr>\n",
              "</table>"
            ],
            "text/plain": [
              "[('ABIM', 6, 1922133.1297),\n",
              " ('AMUDAT', 4, 3546469.3324990002),\n",
              " ('KAABONG', 14, 6990361.6143000005),\n",
              " ('KOTIDO', 6, 2010179.0731479998),\n",
              " ('MOROTO', 6, 422116.06882464996),\n",
              " ('NAKAPIRIPIRIT', 8, 8125156.24546),\n",
              " ('NAPAK', 8, 5587379.38888)]"
            ]
          },
          "metadata": {
            "tags": []
          },
          "execution_count": 10
        }
      ]
    },
    {
      "cell_type": "code",
      "metadata": {
        "id": "66EL7lSFG5I_",
        "colab_type": "code",
        "colab": {
          "base_uri": "https://localhost:8080/",
          "height": 91
        },
        "outputId": "d81c4265-cfd2-4360-ddbe-746e2bbefc94"
      },
      "source": [
        "# Compute the overall Crop area in all Sub counties where population is over 20000\n",
        "%%sql\n",
        "SELECT SUM(Crop_Area_Ha) FROM UgandaCrops\n",
        "WHERE POP> 20000;"
      ],
      "execution_count": null,
      "outputs": [
        {
          "output_type": "stream",
          "text": [
            " * sqlite://\n",
            "Done.\n"
          ],
          "name": "stdout"
        },
        {
          "output_type": "execute_result",
          "data": {
            "text/html": [
              "<table>\n",
              "    <tr>\n",
              "        <th>SUM(Crop_Area_Ha)</th>\n",
              "    </tr>\n",
              "    <tr>\n",
              "        <td>120212.89015529997</td>\n",
              "    </tr>\n",
              "</table>"
            ],
            "text/plain": [
              "[(120212.89015529997,)]"
            ]
          },
          "metadata": {
            "tags": []
          },
          "execution_count": 37
        }
      ]
    },
    {
      "cell_type": "code",
      "metadata": {
        "id": "JN1JEpplHqaP",
        "colab_type": "code",
        "colab": {
          "base_uri": "https://localhost:8080/",
          "height": 327
        },
        "outputId": "e181df5c-4204-44e6-8892-6f27c0ab8a9c"
      },
      "source": [
        "# Sort the Maize production in descending order by Districts, \n",
        "# only taking into account Sub counties where Maize area is larger than Sorghum area,\n",
        "# and display the number of Sub counties per district matching that criteria.\n",
        "\n",
        "%%sql\n",
        "SELECT SUBCOUNTY_NAME,\tDISTRICT_NAME, M_Yield_Ha, M_Area_Ha,S_Area_Ha FROM UgandaCrops\n",
        "WHERE M_Area_Ha > S_Area_Ha\n",
        "ORDER BY DISTRICT_NAME DESC;"
      ],
      "execution_count": 11,
      "outputs": [
        {
          "output_type": "stream",
          "text": [
            " * sqlite://\n",
            "Done.\n"
          ],
          "name": "stdout"
        },
        {
          "output_type": "execute_result",
          "data": {
            "text/html": [
              "<table>\n",
              "    <tr>\n",
              "        <th>SUBCOUNTY_NAME</th>\n",
              "        <th>DISTRICT_NAME</th>\n",
              "        <th>M_Yield_Ha</th>\n",
              "        <th>M_Area_Ha</th>\n",
              "        <th>S_Area_Ha</th>\n",
              "    </tr>\n",
              "    <tr>\n",
              "        <td>IRIIRI</td>\n",
              "        <td>NAPAK</td>\n",
              "        <td>873.4522414999999</td>\n",
              "        <td>3840.6980810000005</td>\n",
              "        <td>1550.9445699999999</td>\n",
              "    </tr>\n",
              "    <tr>\n",
              "        <td>NAPAK TOWN COUNCIL</td>\n",
              "        <td>NAPAK</td>\n",
              "        <td>725.8139301</td>\n",
              "        <td>401.1734419</td>\n",
              "        <td>386.1580327</td>\n",
              "    </tr>\n",
              "    <tr>\n",
              "        <td>NAKAPIRIPIRIT TOWN COUNCIL</td>\n",
              "        <td>NAKAPIRIPIRIT</td>\n",
              "        <td>1257.802716</td>\n",
              "        <td>27.79576662</td>\n",
              "        <td>1.3399191590000001</td>\n",
              "    </tr>\n",
              "    <tr>\n",
              "        <td>NAMALU</td>\n",
              "        <td>NAKAPIRIPIRIT</td>\n",
              "        <td>1325.254872</td>\n",
              "        <td>3293.74946</td>\n",
              "        <td>2197.572106</td>\n",
              "    </tr>\n",
              "    <tr>\n",
              "        <td>MORUITA</td>\n",
              "        <td>NAKAPIRIPIRIT</td>\n",
              "        <td>1248.955812</td>\n",
              "        <td>959.6711616</td>\n",
              "        <td>185.2834449</td>\n",
              "    </tr>\n",
              "    <tr>\n",
              "        <td>KATIKEKILE</td>\n",
              "        <td>MOROTO</td>\n",
              "        <td>546.1402942000001</td>\n",
              "        <td>103.27756219999999</td>\n",
              "        <td>30.15704817</td>\n",
              "    </tr>\n",
              "    <tr>\n",
              "        <td>TAPAC</td>\n",
              "        <td>MOROTO</td>\n",
              "        <td>211.96563540000002</td>\n",
              "        <td>793.2370943</td>\n",
              "        <td>315.979223</td>\n",
              "    </tr>\n",
              "    <tr>\n",
              "        <td>NORTHERN DIVISION</td>\n",
              "        <td>MOROTO</td>\n",
              "        <td>241.53842680000002</td>\n",
              "        <td>0.19137495100000002</td>\n",
              "        <td>0.130940756</td>\n",
              "    </tr>\n",
              "    <tr>\n",
              "        <td>KAMION</td>\n",
              "        <td>KAABONG</td>\n",
              "        <td>714.4757426</td>\n",
              "        <td>549.8633367000001</td>\n",
              "        <td>411.8070005</td>\n",
              "    </tr>\n",
              "    <tr>\n",
              "        <td>LOBALANGIT</td>\n",
              "        <td>KAABONG</td>\n",
              "        <td>985.1926986</td>\n",
              "        <td>1005.8773960000001</td>\n",
              "        <td>879.0023395</td>\n",
              "    </tr>\n",
              "    <tr>\n",
              "        <td>NAPORE (KARENGA)</td>\n",
              "        <td>KAABONG</td>\n",
              "        <td>765.3349254999999</td>\n",
              "        <td>1221.532726</td>\n",
              "        <td>267.559128</td>\n",
              "    </tr>\n",
              "    <tr>\n",
              "        <td>AMUDAT</td>\n",
              "        <td>AMUDAT</td>\n",
              "        <td>1379.0459449999998</td>\n",
              "        <td>972.1742458999998</td>\n",
              "        <td>676.7832664</td>\n",
              "    </tr>\n",
              "</table>"
            ],
            "text/plain": [
              "[('IRIIRI', 'NAPAK', 873.4522414999999, 3840.6980810000005, 1550.9445699999999),\n",
              " ('NAPAK TOWN COUNCIL', 'NAPAK', 725.8139301, 401.1734419, 386.1580327),\n",
              " ('NAKAPIRIPIRIT TOWN COUNCIL', 'NAKAPIRIPIRIT', 1257.802716, 27.79576662, 1.3399191590000001),\n",
              " ('NAMALU', 'NAKAPIRIPIRIT', 1325.254872, 3293.74946, 2197.572106),\n",
              " ('MORUITA', 'NAKAPIRIPIRIT', 1248.955812, 959.6711616, 185.2834449),\n",
              " ('KATIKEKILE', 'MOROTO', 546.1402942000001, 103.27756219999999, 30.15704817),\n",
              " ('TAPAC', 'MOROTO', 211.96563540000002, 793.2370943, 315.979223),\n",
              " ('NORTHERN DIVISION', 'MOROTO', 241.53842680000002, 0.19137495100000002, 0.130940756),\n",
              " ('KAMION', 'KAABONG', 714.4757426, 549.8633367000001, 411.8070005),\n",
              " ('LOBALANGIT', 'KAABONG', 985.1926986, 1005.8773960000001, 879.0023395),\n",
              " ('NAPORE (KARENGA)', 'KAABONG', 765.3349254999999, 1221.532726, 267.559128),\n",
              " ('AMUDAT', 'AMUDAT', 1379.0459449999998, 972.1742458999998, 676.7832664)]"
            ]
          },
          "metadata": {
            "tags": []
          },
          "execution_count": 11
        }
      ]
    }
  ]
}